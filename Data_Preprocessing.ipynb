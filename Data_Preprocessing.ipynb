{
 "cells": [
  {
   "cell_type": "code",
   "execution_count": 21,
   "metadata": {},
   "outputs": [],
   "source": [
    "###IMPORT"
   ]
  },
  {
   "cell_type": "code",
   "execution_count": 22,
   "metadata": {},
   "outputs": [],
   "source": [
    "import numpy as np\n",
    "from sklearn import preprocessing"
   ]
  },
  {
   "cell_type": "code",
   "execution_count": 23,
   "metadata": {},
   "outputs": [],
   "source": [
    "###LOAD DATA"
   ]
  },
  {
   "cell_type": "code",
   "execution_count": 24,
   "metadata": {},
   "outputs": [],
   "source": [
    "raw_csv_data = np.loadtxt('Audiobooks_data.csv', delimiter=',')\n",
    "unscaled_inputs = raw_csv_data[:,1:-1]\n",
    "targets = raw_csv_data[:,-1]"
   ]
  },
  {
   "cell_type": "code",
   "execution_count": 49,
   "metadata": {},
   "outputs": [],
   "source": [
    "###BALANCE DATA"
   ]
  },
  {
   "cell_type": "code",
   "execution_count": 50,
   "metadata": {},
   "outputs": [],
   "source": [
    "num_one_targets = int(np.sum(targets))\n",
    "zero_targets_counter = 0\n",
    "index_to_remove = []\n",
    "\n",
    "for i in range (targets.shape[0]):\n",
    "    if targets[i] == 0:\n",
    "        zero_targets_counter += 1\n",
    "        if zero_targets_counter > num_one_targets:\n",
    "            index_to_remove.append(i)\n",
    "            \n",
    "            \n",
    "unscaled_inputs_equal_priors = np.delete(unscaled_inputs, index_to_remove, axis=0)\n",
    "targets_equal_priors = np.delete(targets, index_to_remove, axis=0)"
   ]
  },
  {
   "cell_type": "code",
   "execution_count": 51,
   "metadata": {},
   "outputs": [],
   "source": [
    "###STANDARDIZE INPUT"
   ]
  },
  {
   "cell_type": "code",
   "execution_count": 52,
   "metadata": {},
   "outputs": [],
   "source": [
    "scaled_inputs = preprocessing.scale(unscaled_inputs_equal_priors)"
   ]
  },
  {
   "cell_type": "code",
   "execution_count": 53,
   "metadata": {},
   "outputs": [],
   "source": [
    "###SHUFFLING"
   ]
  },
  {
   "cell_type": "code",
   "execution_count": 54,
   "metadata": {},
   "outputs": [],
   "source": [
    "shuffled_index = np.arange(scaled_inputs.shape[0])\n",
    "np.random.shuffle(shuffled_index)\n",
    "shuffled_inputs = scaled_inputs[shuffled_index]\n",
    "shuffled_targets = targets_equal_priors[shuffled_index]"
   ]
  },
  {
   "cell_type": "code",
   "execution_count": 55,
   "metadata": {},
   "outputs": [],
   "source": [
    "###SPLITING DATASET"
   ]
  },
  {
   "cell_type": "code",
   "execution_count": 63,
   "metadata": {},
   "outputs": [],
   "source": [
    "total_sample = shuffled_inputs.shape[0]\n",
    "total_train_sample = int(0.8*total_sample)\n",
    "total_validation_sample = int(0.1*total_sample)\n",
    "total_test_sample = total_sample - total_train_sample - total_validation_sample\n",
    "\n",
    "\n",
    "train_inputs = shuffled_inputs[:total_train_sample]\n",
    "train_targets = shuffled_targets[:total_train_sample]\n",
    "\n",
    "validation_inputs = shuffled_inputs[total_train_sample:total_train_sample+total_validation_sample]\n",
    "validation_targets = shuffled_targets[total_train_sample:total_train_sample+total_validation_sample]\n",
    "\n",
    "test_inputs = shuffled_inputs[total_train_sample+total_validation_sample:]\n",
    "test_targets = shuffled_targets[total_train_sample+total_validation_sample:]"
   ]
  },
  {
   "cell_type": "code",
   "execution_count": 64,
   "metadata": {},
   "outputs": [],
   "source": [
    "###SAVING IN .NPZ"
   ]
  },
  {
   "cell_type": "code",
   "execution_count": 66,
   "metadata": {},
   "outputs": [],
   "source": [
    "np.savez('AudioBooks_train_data', inputs=train_inputs, targets=train_targets)\n",
    "np.savez('AudioBooks_validation_data', inputs=validation_inputs, targets=validation_targets)\n",
    "np.savez('AudioBooks_test_data', inputs=test_inputs, targets=test_targets)"
   ]
  },
  {
   "cell_type": "code",
   "execution_count": null,
   "metadata": {},
   "outputs": [],
   "source": []
  }
 ],
 "metadata": {
  "kernelspec": {
   "display_name": "Python py3-TF2.0",
   "language": "python",
   "name": "py3-tf2.0"
  },
  "language_info": {
   "codemirror_mode": {
    "name": "ipython",
    "version": 3
   },
   "file_extension": ".py",
   "mimetype": "text/x-python",
   "name": "python",
   "nbconvert_exporter": "python",
   "pygments_lexer": "ipython3",
   "version": "3.8.5"
  }
 },
 "nbformat": 4,
 "nbformat_minor": 4
}
