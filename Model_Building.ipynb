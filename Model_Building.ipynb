{
 "cells": [
  {
   "cell_type": "code",
   "execution_count": 18,
   "metadata": {},
   "outputs": [],
   "source": [
    "###IMPORTING"
   ]
  },
  {
   "cell_type": "code",
   "execution_count": 19,
   "metadata": {},
   "outputs": [],
   "source": [
    "import numpy as np\n",
    "import tensorflow as tf"
   ]
  },
  {
   "cell_type": "code",
   "execution_count": 20,
   "metadata": {},
   "outputs": [],
   "source": [
    "###LOADING DATA"
   ]
  },
  {
   "cell_type": "code",
   "execution_count": 30,
   "metadata": {},
   "outputs": [],
   "source": [
    "train_npz = np.load('AudioBooks_train_data.npz')\n",
    "train_inputs = train_npz['inputs'].astype(np.float)\n",
    "train_targets = train_npz['targets'].astype(np.int)\n",
    "\n",
    "validation_npz = np.load('AudioBooks_validation_data.npz')\n",
    "validation_inputs = validation_npz['inputs'].astype(np.float)\n",
    "validation_targets = validation_npz['targets'].astype(np.int)\n",
    "\n",
    "test_npz = np.load('AudioBooks_test_data.npz')\n",
    "test_inputs = test_npz['inputs'].astype(np.float)\n",
    "test_targets = test_npz['targets'].astype(np.int)"
   ]
  },
  {
   "cell_type": "code",
   "execution_count": 31,
   "metadata": {},
   "outputs": [],
   "source": [
    "###MODEL"
   ]
  },
  {
   "cell_type": "code",
   "execution_count": 54,
   "metadata": {},
   "outputs": [
    {
     "name": "stdout",
     "output_type": "stream",
     "text": [
      "Epoch 1/100\n",
      "72/72 - 0s - loss: 0.5198 - accuracy: 0.7198 - val_loss: 0.4186 - val_accuracy: 0.8031\n",
      "Epoch 2/100\n",
      "72/72 - 0s - loss: 0.4045 - accuracy: 0.7924 - val_loss: 0.3600 - val_accuracy: 0.8166\n",
      "Epoch 3/100\n",
      "72/72 - 0s - loss: 0.3805 - accuracy: 0.7840 - val_loss: 0.3539 - val_accuracy: 0.8277\n",
      "Epoch 4/100\n",
      "72/72 - 0s - loss: 0.3617 - accuracy: 0.8111 - val_loss: 0.3376 - val_accuracy: 0.8456\n",
      "Epoch 5/100\n",
      "72/72 - 0s - loss: 0.3552 - accuracy: 0.8033 - val_loss: 0.3323 - val_accuracy: 0.8434\n",
      "Epoch 6/100\n",
      "72/72 - 0s - loss: 0.3494 - accuracy: 0.8086 - val_loss: 0.3192 - val_accuracy: 0.8568\n",
      "Epoch 7/100\n",
      "72/72 - 0s - loss: 0.3474 - accuracy: 0.8047 - val_loss: 0.3163 - val_accuracy: 0.8501\n",
      "Epoch 8/100\n",
      "72/72 - 0s - loss: 0.3430 - accuracy: 0.8134 - val_loss: 0.3255 - val_accuracy: 0.8479\n",
      "Epoch 9/100\n",
      "72/72 - 0s - loss: 0.3396 - accuracy: 0.8148 - val_loss: 0.3292 - val_accuracy: 0.8456\n"
     ]
    },
    {
     "data": {
      "text/plain": [
       "<tensorflow.python.keras.callbacks.History at 0x28cfca21790>"
      ]
     },
     "execution_count": 54,
     "metadata": {},
     "output_type": "execute_result"
    }
   ],
   "source": [
    "input_size = 10\n",
    "hidden_layer_size = 80\n",
    "output_size = 2\n",
    "\n",
    "model = tf.keras.Sequential([\n",
    "                            tf.keras.layers.Dense(hidden_layer_size, activation='relu'),\n",
    "                            tf.keras.layers.Dense(hidden_layer_size, activation='relu'),\n",
    "                            tf.keras.layers.Dense(output_size, activation='softmax')\n",
    "                            ])\n",
    "\n",
    "\n",
    "model.compile(optimizer='adam', loss='sparse_categorical_crossentropy', metrics=['accuracy'])\n",
    "\n",
    "batch_size = 50\n",
    "max_epochs = 100\n",
    "early_stopping = tf.keras.callbacks.EarlyStopping(patience=2)\n",
    "\n",
    "model.fit(train_inputs, train_targets, batch_size=batch_size, epochs=max_epochs, \n",
    "          callbacks=[early_stopping], validation_data=(validation_inputs, validation_targets), verbose=2)"
   ]
  },
  {
   "cell_type": "code",
   "execution_count": 55,
   "metadata": {},
   "outputs": [],
   "source": [
    "###TESTING"
   ]
  },
  {
   "cell_type": "code",
   "execution_count": 57,
   "metadata": {},
   "outputs": [
    {
     "name": "stdout",
     "output_type": "stream",
     "text": [
      "14/14 [==============================] - 0s 1ms/step - loss: 0.3161 - accuracy: 0.8304\n",
      "Test-Loss: 0.32, Test-Accuracy: 0.83%\n"
     ]
    }
   ],
   "source": [
    "test_loss, test_accuracy = model.evaluate(test_inputs, test_targets)\n",
    "print('Test-Loss: {0:.2f}, Test-Accuracy: {1:.2f}%'.format (test_loss, test_accuracy))"
   ]
  },
  {
   "cell_type": "code",
   "execution_count": null,
   "metadata": {},
   "outputs": [],
   "source": []
  }
 ],
 "metadata": {
  "kernelspec": {
   "display_name": "Python py3-TF2.0",
   "language": "python",
   "name": "py3-tf2.0"
  },
  "language_info": {
   "codemirror_mode": {
    "name": "ipython",
    "version": 3
   },
   "file_extension": ".py",
   "mimetype": "text/x-python",
   "name": "python",
   "nbconvert_exporter": "python",
   "pygments_lexer": "ipython3",
   "version": "3.8.5"
  }
 },
 "nbformat": 4,
 "nbformat_minor": 4
}
